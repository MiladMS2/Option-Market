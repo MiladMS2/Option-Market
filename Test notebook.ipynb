{
 "cells": [
  {
   "cell_type": "code",
   "execution_count": 10,
   "id": "1f132fb4",
   "metadata": {},
   "outputs": [],
   "source": [
    "import os\n",
    "import sys\n",
    "sys.path.append('./Py-tsetmc/ ')\n",
    "# Cleaning the Data\n",
    "import pandas as pd\n"
   ]
  },
  {
   "cell_type": "code",
   "execution_count": 11,
   "id": "a77aa1af",
   "metadata": {},
   "outputs": [],
   "source": [
    "\n",
    "# Read the Excel file\n",
    "# df = pd.read_excel(\"./tsetmcdata/14020701.xlsx\", skiprows=1, header=1)\n",
    "\n",
    "def clean_data(date):\n",
    "    # Replace \"ي\" and \"\" with \"ی\" and \" \"respectively: \n",
    "    date.replace(to_replace=[\"ي\", \"ك\"], value=[\"ی\", \"ک\"],regex=True,inplace=True)\n",
    "    return date\n",
    "# clean_data(df)\n",
    "\n"
   ]
  },
  {
   "cell_type": "code",
   "execution_count": 12,
   "id": "5c74477f",
   "metadata": {},
   "outputs": [
    {
     "ename": "ModuleNotFoundError",
     "evalue": "No module named 'date_conversion'",
     "output_type": "error",
     "traceback": [
      "\u001b[1;31m---------------------------------------------------------------------------\u001b[0m",
      "\u001b[1;31mModuleNotFoundError\u001b[0m                       Traceback (most recent call last)",
      "\u001b[1;32mc:\\Users\\ebidr\\Documents\\Option-Market\\Test notebook.ipynb Cell 3\u001b[0m line \u001b[0;36m5\n\u001b[0;32m      <a href='vscode-notebook-cell:/c%3A/Users/ebidr/Documents/Option-Market/Test%20notebook.ipynb#W2sZmlsZQ%3D%3D?line=1'>2</a>\u001b[0m \u001b[39mimport\u001b[39;00m \u001b[39mpandas\u001b[39;00m \u001b[39mas\u001b[39;00m \u001b[39mpd\u001b[39;00m\n\u001b[0;32m      <a href='vscode-notebook-cell:/c%3A/Users/ebidr/Documents/Option-Market/Test%20notebook.ipynb#W2sZmlsZQ%3D%3D?line=2'>3</a>\u001b[0m \u001b[39mfrom\u001b[39;00m \u001b[39mpathlib\u001b[39;00m \u001b[39mimport\u001b[39;00m Path\n\u001b[1;32m----> <a href='vscode-notebook-cell:/c%3A/Users/ebidr/Documents/Option-Market/Test%20notebook.ipynb#W2sZmlsZQ%3D%3D?line=4'>5</a>\u001b[0m \u001b[39mfrom\u001b[39;00m \u001b[39mdate_conversion\u001b[39;00m \u001b[39mimport\u001b[39;00m generate_jalali_date_range\n\u001b[0;32m     <a href='vscode-notebook-cell:/c%3A/Users/ebidr/Documents/Option-Market/Test%20notebook.ipynb#W2sZmlsZQ%3D%3D?line=9'>10</a>\u001b[0m \u001b[39m# Cleaning Function\u001b[39;00m\n\u001b[0;32m     <a href='vscode-notebook-cell:/c%3A/Users/ebidr/Documents/Option-Market/Test%20notebook.ipynb#W2sZmlsZQ%3D%3D?line=12'>13</a>\u001b[0m \u001b[39mdef\u001b[39;00m \u001b[39mclean_combine_data\u001b[39m(start_date,end_date):\n",
      "\u001b[1;31mModuleNotFoundError\u001b[0m: No module named 'date_conversion'"
     ]
    }
   ],
   "source": [
    "\n",
    "import os\n",
    "import pandas as pd\n",
    "from pathlib import Path\n",
    "\n",
    "from date_conversion import generate_jalali_date_range\n",
    "\n",
    "\n",
    "\n",
    "\n",
    "# Cleaning Function\n",
    "\n",
    "\n",
    "def clean_combine_data(start_date,end_date):\n",
    "    generate_jalali_date_range(start_date,end_date)\n",
    "    data_dir = list(Path(\"./tsetmcdata\").glob(\"*.xlsx\"))\n",
    "\n",
    "    all_data = pd.concat([pd.read_excel(f, skiprows=1, header=1)\n",
    "                          for f in data_dir], ignore_index=True)\n",
    "    # Replacing with \"ی\" and \" ک\"\n",
    "    all_data.replace(to_replace=[\"ي\", \"ك\"], value=[\n",
    "        \"ی\", \"ک\"], regex=True, inplace=True)\n",
    "    return all_data\n",
    "\n",
    "\n",
    "clean_combine_data(\"1401-01-01\",\"1402-01-01\")"
   ]
  },
  {
   "cell_type": "code",
   "execution_count": null,
   "id": "8b12e2c5",
   "metadata": {},
   "outputs": [],
   "source": [
    "from jdatetime import date, timedelta\n",
    "def generate_jalali_date_range(start_date_str_jalali:str, end_date_str_jalali:str):\n",
    "    '''Generate a list of Jalali dates for download function'''\n",
    "    # Split the Jalali date strings into year, month, and day components\n",
    "    start_year, start_month, start_day = map(\n",
    "        int, start_date_str_jalali.split(\"-\"))\n",
    "    end_year, end_month, end_day = map(int, end_date_str_jalali.split(\"-\"))\n",
    "\n",
    "    # Convert the Jalali start and end dates to jdatetime.date objects\n",
    "    start_date = date(start_year, start_month, start_day)\n",
    "    end_date = date(end_year, end_month, end_day)\n",
    "\n",
    "    # Initialize a list to store the generated Jalali dates\n",
    "    jalali_dates = []\n",
    "\n",
    "    # Generate dates in the specified range\n",
    "    current_date = start_date\n",
    "    while current_date <= end_date:\n",
    "        jalali_dates.append(date.isoformat(current_date)\n",
    "                            )  # Append the Jalali date\n",
    "        current_date += timedelta(days=1)\n",
    "\n",
    "    return jalali_dates\n",
    "\n",
    "\n",
    "generate_jalali_date_range(\"1401-01-01\",\"1402-01-01\")"
   ]
  },
  {
   "cell_type": "code",
   "execution_count": null,
   "id": "3f73f954",
   "metadata": {},
   "outputs": [],
   "source": []
  },
  {
   "cell_type": "code",
   "execution_count": null,
   "id": "8a6af84f",
   "metadata": {},
   "outputs": [],
   "source": []
  },
  {
   "cell_type": "code",
   "execution_count": null,
   "id": "b6bc7721",
   "metadata": {},
   "outputs": [],
   "source": [
    "\n",
    "\n",
    "# df.head()\n",
    "# Finding the option trades\n",
    "option_df=df[df[\"نام\"].str.strip().str.startswith(\"اختیار\")]\n",
    "option_df=option_df[~option_df[\"نماد\"].str.strip().str.startswith(\"ه\")]\n",
    "# option_df\n",
    "\n",
    "# Split the \"نام\" column based on space \" \" separator into three columns\n",
    "option_df[['A', 'قیمت اعمال', 'تاریخ اعمال']] = option_df[\"نام\"].str.split(\"-\", expand=True)\n",
    "option_df[[\"نوع\",\"دارایی پایه\"]]=option_df[\"A\"].str.split(\" \",n=1,expand=True)\n",
    "# Display the resulting DataFrame\n",
    "option_df=option_df[[\"نماد\",\"قیمت اعمال\",\"تاریخ اعمال\",\"دارایی پایه\",\"نوع\",\"تعداد\",\"حجم\",\"ارزش\",\"آخرین معامله - مقدار\",\"نام\"]]\n",
    "option_df"
   ]
  },
  {
   "cell_type": "code",
   "execution_count": null,
   "id": "0f11e0cb",
   "metadata": {},
   "outputs": [
    {
     "ename": "NameError",
     "evalue": "name 'generate_jalali_date_range' is not defined",
     "output_type": "error",
     "traceback": [
      "\u001b[1;31m---------------------------------------------------------------------------\u001b[0m",
      "\u001b[1;31mNameError\u001b[0m                                 Traceback (most recent call last)",
      "\u001b[1;32mc:\\Users\\ebidr\\Documents\\Option-Market\\Test notebook.ipynb Cell 8\u001b[0m line \u001b[0;36m1\n\u001b[0;32m      <a href='vscode-notebook-cell:/c%3A/Users/ebidr/Documents/Option-Market/Test%20notebook.ipynb#X10sZmlsZQ%3D%3D?line=7'>8</a>\u001b[0m     all_data\u001b[39m.\u001b[39mreplace(to_replace\u001b[39m=\u001b[39m[\u001b[39m\"\u001b[39m\u001b[39mي\u001b[39m\u001b[39m\"\u001b[39m, \u001b[39m\"\u001b[39m\u001b[39mك\u001b[39m\u001b[39m\"\u001b[39m], value\u001b[39m=\u001b[39m[\n\u001b[0;32m      <a href='vscode-notebook-cell:/c%3A/Users/ebidr/Documents/Option-Market/Test%20notebook.ipynb#X10sZmlsZQ%3D%3D?line=8'>9</a>\u001b[0m         \u001b[39m\"\u001b[39m\u001b[39mی\u001b[39m\u001b[39m\"\u001b[39m, \u001b[39m\"\u001b[39m\u001b[39mک\u001b[39m\u001b[39m\"\u001b[39m], regex\u001b[39m=\u001b[39m\u001b[39mTrue\u001b[39;00m, inplace\u001b[39m=\u001b[39m\u001b[39mTrue\u001b[39;00m)\n\u001b[0;32m     <a href='vscode-notebook-cell:/c%3A/Users/ebidr/Documents/Option-Market/Test%20notebook.ipynb#X10sZmlsZQ%3D%3D?line=9'>10</a>\u001b[0m     \u001b[39mreturn\u001b[39;00m all_data\n\u001b[1;32m---> <a href='vscode-notebook-cell:/c%3A/Users/ebidr/Documents/Option-Market/Test%20notebook.ipynb#X10sZmlsZQ%3D%3D?line=12'>13</a>\u001b[0m clean_combine_data(\u001b[39m\"\u001b[39;49m\u001b[39m1401-01-01\u001b[39;49m\u001b[39m\"\u001b[39;49m, \u001b[39m\"\u001b[39;49m\u001b[39m1402-01-01\u001b[39;49m\u001b[39m\"\u001b[39;49m)\n",
      "\u001b[1;32mc:\\Users\\ebidr\\Documents\\Option-Market\\Test notebook.ipynb Cell 8\u001b[0m line \u001b[0;36m2\n\u001b[0;32m      <a href='vscode-notebook-cell:/c%3A/Users/ebidr/Documents/Option-Market/Test%20notebook.ipynb#X10sZmlsZQ%3D%3D?line=0'>1</a>\u001b[0m \u001b[39mdef\u001b[39;00m \u001b[39mclean_combine_data\u001b[39m(start_date, end_date):\n\u001b[1;32m----> <a href='vscode-notebook-cell:/c%3A/Users/ebidr/Documents/Option-Market/Test%20notebook.ipynb#X10sZmlsZQ%3D%3D?line=1'>2</a>\u001b[0m     date_list\u001b[39m=\u001b[39mgenerate_jalali_date_range(start_date, end_date)\n\u001b[0;32m      <a href='vscode-notebook-cell:/c%3A/Users/ebidr/Documents/Option-Market/Test%20notebook.ipynb#X10sZmlsZQ%3D%3D?line=2'>3</a>\u001b[0m     data_dir \u001b[39m=\u001b[39m \u001b[39mlist\u001b[39m(Path(\u001b[39m\"\u001b[39m\u001b[39m./tsetmcdata\u001b[39m\u001b[39m\"\u001b[39m)\u001b[39m.\u001b[39mglob(\u001b[39mf\u001b[39m\u001b[39m\"\u001b[39m\u001b[39m{\u001b[39;00mdate_list\u001b[39m}\u001b[39;00m\u001b[39m.xlsx\u001b[39m\u001b[39m\"\u001b[39m))\n\u001b[0;32m      <a href='vscode-notebook-cell:/c%3A/Users/ebidr/Documents/Option-Market/Test%20notebook.ipynb#X10sZmlsZQ%3D%3D?line=4'>5</a>\u001b[0m     all_data \u001b[39m=\u001b[39m pd\u001b[39m.\u001b[39mconcat([pd\u001b[39m.\u001b[39mread_excel(f, skiprows\u001b[39m=\u001b[39m\u001b[39m1\u001b[39m, header\u001b[39m=\u001b[39m\u001b[39m1\u001b[39m)\n\u001b[0;32m      <a href='vscode-notebook-cell:/c%3A/Users/ebidr/Documents/Option-Market/Test%20notebook.ipynb#X10sZmlsZQ%3D%3D?line=5'>6</a>\u001b[0m                           \u001b[39mfor\u001b[39;00m f \u001b[39min\u001b[39;00m data_dir], ignore_index\u001b[39m=\u001b[39m\u001b[39mTrue\u001b[39;00m)\n",
      "\u001b[1;31mNameError\u001b[0m: name 'generate_jalali_date_range' is not defined"
     ]
    }
   ],
   "source": [
    "\n",
    "def clean_combine_data(start_date, end_date):\n",
    "    date_list=generate_jalali_date_range(start_date, end_date)\n",
    "    data_dir = list(Path(\"./tsetmcdata\").glob(f\"{date_list}.xlsx\"))\n",
    "\n",
    "    all_data = pd.concat([pd.read_excel(f, skiprows=1, header=1)\n",
    "                          for f in data_dir], ignore_index=True)\n",
    "    # Replacing with \"ی\" and \" ک\"\n",
    "    all_data.replace(to_replace=[\"ي\", \"ك\"], value=[\n",
    "        \"ی\", \"ک\"], regex=True, inplace=True)\n",
    "    return all_data\n",
    "\n",
    "\n",
    "clean_combine_data(\"1401-01-01\", \"1402-01-01\")"
   ]
  },
  {
   "cell_type": "code",
   "execution_count": null,
   "id": "c9800c5c",
   "metadata": {},
   "outputs": [],
   "source": []
  }
 ],
 "metadata": {
  "kernelspec": {
   "display_name": "Python 3 (ipykernel)",
   "language": "python",
   "name": "python3"
  },
  "language_info": {
   "codemirror_mode": {
    "name": "ipython",
    "version": 3
   },
   "file_extension": ".py",
   "mimetype": "text/x-python",
   "name": "python",
   "nbconvert_exporter": "python",
   "pygments_lexer": "ipython3",
   "version": "3.11.5"
  }
 },
 "nbformat": 4,
 "nbformat_minor": 5
}
