{
 "cells": [
  {
   "cell_type": "code",
   "execution_count": 1,
   "metadata": {},
   "outputs": [
    {
     "name": "stdout",
     "output_type": "stream",
     "text": [
      "All files have been saved to the new folder.\n",
      "combined excel has been saved.\n",
      "option dataframe has been saved.\n",
      "UAssets data has been saved.\n"
     ]
    }
   ],
   "source": [
    "import pandas as pd\n",
    "import os\n",
    "import glob\n",
    "import shutil\n",
    "import clean_save_data  \n"
   ]
  },
  {
   "cell_type": "code",
   "execution_count": 9,
   "metadata": {},
   "outputs": [],
   "source": [
    "from clean_save_data import stock_df , option_df , df_combined\n",
    "x=option_df[option_df['نام'].str.startswith('اختیارخ شستا')]"
   ]
  },
  {
   "cell_type": "code",
   "execution_count": null,
   "metadata": {},
   "outputs": [],
   "source": [
    "option_data = pd.DataFrame(columns=['Underlying Price', 'Strike Price', 'Option Type', 'Expiration Date', 'Bid Price', 'Ask Price'])\n",
    "option_data['Underlying Price'] = stock_df['آخرین معامله - مقدار']\n",
    "option_data['Strike Price'] = option_df['اعمال']\n",
    "option_data['Option Type'] = option_df['Option_Type']\n",
    "option_data['Expiration Date'] = option_df['سررسید']\n",
    "option_data['Bid Price'] = option_df['آخرین معامله - مقدار']\n",
    "option_data['Ask Price'] = option_df['آخرین معامله - مقدار']\n"
   ]
  },
  {
   "cell_type": "code",
   "execution_count": null,
   "metadata": {},
   "outputs": [],
   "source": []
  },
  {
   "cell_type": "code",
   "execution_count": null,
   "metadata": {},
   "outputs": [],
   "source": []
  },
  {
   "cell_type": "code",
   "execution_count": null,
   "metadata": {},
   "outputs": [],
   "source": []
  }
 ],
 "metadata": {
  "kernelspec": {
   "display_name": "quant",
   "language": "python",
   "name": "python3"
  },
  "language_info": {
   "codemirror_mode": {
    "name": "ipython",
    "version": 3
   },
   "file_extension": ".py",
   "mimetype": "text/x-python",
   "name": "python",
   "nbconvert_exporter": "python",
   "pygments_lexer": "ipython3",
   "version": "3.11.4"
  },
  "orig_nbformat": 4
 },
 "nbformat": 4,
 "nbformat_minor": 2
}
